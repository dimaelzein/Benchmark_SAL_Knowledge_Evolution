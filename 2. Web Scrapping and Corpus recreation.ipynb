{
 "cells": [
  {
   "cell_type": "code",
   "execution_count": null,
   "metadata": {},
   "outputs": [],
   "source": [
    "#One time Code, Used to extract plain text from websites and save them in a folder.\n",
    "#Very Few websites encountered some 403 errors --> Their related extraction was done manually\n",
    "\n",
    "\n",
    "from bs4 import BeautifulSoup\n",
    "import urllib.request\n",
    "from urllib.request import Request\n",
    "import csv\n",
    "from bs4.element import Comment\n",
    "from rake_nltk import Rake\n",
    "import sys\n",
    "import RAKE\n",
    "import operator\n",
    "import logging\n",
    "#History extraction from https://archive.org/help/wayback_api.php\n",
    "import requests\n",
    "\n",
    "dates = {\"AltS\":\"20170725\",\"ARWar\":\"20170725\",\"Bees\":\"20170725\",\"Bombing\":\"20170725\",\"Evolution\":\"20170726\",\"NASA\":\"20170726\",\"Orcas\":\"20170726\",\"Sangre\" : \"20170726\",\"SunTzu\" : \"20170726\",\"Tornado\" : \"20170725\"}\n",
    "topic= \"AltS\"\n",
    "dest = \"Ressource\" + topic\n",
    "\n",
    "def tag_visible(element):\n",
    "    #Think if we also want to exclude 'a' also. Those are hyperlinks that most of the times contain sitemaps, subscribe\n",
    "    #... But that is not always the rules.. sometimes they can hyperlink inside the text..\n",
    "    if element.parent.name in ['style', 'script', 'head', 'title', 'meta', '[document]']:\n",
    "        return False\n",
    "    if isinstance(element, Comment):\n",
    "        return False\n",
    "    return True\n",
    "\n",
    "\n",
    "def text_from_html(body):\n",
    "    soup = BeautifulSoup(body, 'html.parser')\n",
    "    texts = soup.findAll(text=True)\n",
    "    visible_texts = filter(tag_visible, texts)  \n",
    "    return u\" \".join(t.strip() for t in visible_texts)\n",
    "\n",
    "docs = pd.read_csv(dest + \"\\\\doc-gain.csv\")\n",
    "docs = docs.set_index(\"urlid\")\n",
    "\n",
    "for i in docs.index:\n",
    "    url = docs['url'][i]\n",
    "    date = dates[topic]\n",
    "    \n",
    "    try:\n",
    "    #Get the old url and open it\n",
    "     response = requests.get(\"http://archive.org/wayback/available?url=\" +url + \"&timestamp=\" + date)\n",
    "     json_res = response.json()\n",
    "     oldurl =  json_res[\"archived_snapshots\"][\"closest\"][\"url\"]\n",
    "    #Get the old url and open it\n",
    "     html = urllib.request.urlopen(oldurl).read()\n",
    "     logging.debug(\"Link \" + oldurl + \"was opened\")\n",
    "     urltext = text_from_html(html).encode('utf-8').decode('ascii', 'ignore')\n",
    "    except urllib.error.HTTPError as e:\n",
    "     logging.warning(\"HTTP error for \"+ i + \":\" + url )\n",
    "     urltext = \"\"\n",
    "    except:\n",
    "     logging.warning(\"Could not open history of \" + i + \":\" + url)\n",
    "     urltext = \"\" \n",
    "    \n",
    "    f= open(dest + \"\\\\Corpus\\\\\" + i +\".txt\",\"w+\")\n",
    "    f.write(urltext)\n",
    "    f.close()"
   ]
  }
 ],
 "metadata": {
  "kernelspec": {
   "display_name": "Python 3",
   "language": "python",
   "name": "python3"
  },
  "language_info": {
   "codemirror_mode": {
    "name": "ipython",
    "version": 3
   },
   "file_extension": ".py",
   "mimetype": "text/x-python",
   "name": "python",
   "nbconvert_exporter": "python",
   "pygments_lexer": "ipython3",
   "version": "3.9.4"
  },
  "toc": {
   "base_numbering": 1,
   "nav_menu": {},
   "number_sections": true,
   "sideBar": true,
   "skip_h1_title": false,
   "title_cell": "Table of Contents",
   "title_sidebar": "Contents",
   "toc_cell": false,
   "toc_position": {},
   "toc_section_display": true,
   "toc_window_display": true
  },
  "varInspector": {
   "cols": {
    "lenName": 16,
    "lenType": 16,
    "lenVar": 40
   },
   "kernels_config": {
    "python": {
     "delete_cmd_postfix": "",
     "delete_cmd_prefix": "del ",
     "library": "var_list.py",
     "varRefreshCmd": "print(var_dic_list())"
    },
    "r": {
     "delete_cmd_postfix": ") ",
     "delete_cmd_prefix": "rm(",
     "library": "var_list.r",
     "varRefreshCmd": "cat(var_dic_list()) "
    }
   },
   "types_to_exclude": [
    "module",
    "function",
    "builtin_function_or_method",
    "instance",
    "_Feature"
   ],
   "window_display": false
  }
 },
 "nbformat": 4,
 "nbformat_minor": 4
}
